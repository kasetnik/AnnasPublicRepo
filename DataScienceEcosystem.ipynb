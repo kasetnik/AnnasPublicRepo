{
 "cells": [
  {
   "cell_type": "markdown",
   "id": "37796462-d7bb-42d2-b115-591c60f66e97",
   "metadata": {},
   "source": [
    "# Data Science Tools and Ecosystem"
   ]
  },
  {
   "cell_type": "markdown",
   "id": "914da7b8-00ff-491c-af75-c68553bd49f7",
   "metadata": {},
   "source": [
    "In this notebook, Data Science Tools and Ecosystem are summarized."
   ]
  },
  {
   "cell_type": "markdown",
   "id": "5f0bacd0-6d7c-4944-a0e2-8ac5ab6dc21a",
   "metadata": {},
   "source": [
    "**Objectives:**\n",
    "\n",
    "* List popular languages for Data Sciences\n",
    "* List common libraries used by Data Scientists\n",
    "* Practice common Markdown commands such as tables, lists (ordered and unordered), and formatting\n",
    "* Practice simple calculations "
   ]
  },
  {
   "cell_type": "markdown",
   "id": "c4bb2f0e-b645-4856-b944-fe6c397e299d",
   "metadata": {},
   "source": [
    "## Author\n",
    "Anna Berger"
   ]
  },
  {
   "cell_type": "markdown",
   "id": "07cb8219-42d0-402b-8248-e2aa3f963c13",
   "metadata": {},
   "source": [
    "Some of the popular languages that Data Scientists use are:\n",
    "1. Python\n",
    "2. R\n",
    "3. Julia"
   ]
  },
  {
   "cell_type": "markdown",
   "id": "5905e1dd-680e-4d46-a712-92fd8a50923a",
   "metadata": {},
   "source": [
    "Some of the commonly used libraries used by Data Scientists include:\n",
    "1. Pandas \n",
    "2. NumPy\n",
    "3. Matplotlib"
   ]
  },
  {
   "cell_type": "markdown",
   "id": "38d5577e-c97f-4fe4-bbac-c331bdde611d",
   "metadata": {},
   "source": [
    "| Data Science Tools |\n",
    "| ---------------- |\n",
    "| JypeterLab |\n",
    "| VS Code |\n",
    "| Google Colab |"
   ]
  },
  {
   "cell_type": "markdown",
   "id": "74f62fe3-faad-4904-ad10-34ff9d8c291c",
   "metadata": {},
   "source": [
    "### Below are a few examples of evaluating arithmetic expressions in Python"
   ]
  },
  {
   "cell_type": "code",
   "execution_count": 3,
   "id": "b418a91f-2955-4f20-a765-9fdce2803f12",
   "metadata": {},
   "outputs": [
    {
     "data": {
      "text/plain": [
       "17"
      ]
     },
     "execution_count": 3,
     "metadata": {},
     "output_type": "execute_result"
    }
   ],
   "source": [
    "#  This a simple arithmetic expression to mutiply then add integers\n",
    "\n",
    "(3*4)+5"
   ]
  },
  {
   "cell_type": "code",
   "execution_count": 4,
   "id": "3c9a047c-75b0-4bdd-8119-734c9bb272b0",
   "metadata": {},
   "outputs": [
    {
     "data": {
      "text/plain": [
       "3.3333333333333335"
      ]
     },
     "execution_count": 4,
     "metadata": {},
     "output_type": "execute_result"
    }
   ],
   "source": [
    "# This will convert 200 minutes to hours by diving by 60\n",
    "\n",
    "200/60"
   ]
  },
  {
   "cell_type": "code",
   "execution_count": null,
   "id": "eb0662f2-bf17-4185-bc1b-8d8e3d6c0e4d",
   "metadata": {},
   "outputs": [],
   "source": []
  }
 ],
 "metadata": {
  "kernelspec": {
   "display_name": "Python 3 (ipykernel)",
   "language": "python",
   "name": "python3"
  },
  "language_info": {
   "codemirror_mode": {
    "name": "ipython",
    "version": 3
   },
   "file_extension": ".py",
   "mimetype": "text/x-python",
   "name": "python",
   "nbconvert_exporter": "python",
   "pygments_lexer": "ipython3",
   "version": "3.10.9"
  }
 },
 "nbformat": 4,
 "nbformat_minor": 5
}
